{
 "cells": [
  {
   "cell_type": "markdown",
   "metadata": {},
   "source": [
    "### Кейс №2 - Приложение доставки\n",
    "\n",
    "Вы работаете аналитиком в приложении по доставке продуктов. Команда внедрила в приложение умную систему рекомендации товаров – предполагается, что такая система поможет пользователям эффективнее работать с приложением и лучше находить необходимые товары.\n",
    "\n",
    "Чтобы проверить эффективность системы рекомендаций, был проведен АБ-тест. В группе 1 оказались пользователи с новой системой рекомендаций, в группе 0 пользователи со старой версией приложения, где нет рекомендации товаров.\n",
    "\n",
    "Ваша задача – оценить, смогла ли новая система рекомендаций принести пользу бизнесу и пользователям приложения. Для этого нужно выбрать одну или несколько метрик, которая отвечает за качество сервиса и статистически сравнить эти метрики в двух группах.\n",
    "\n",
    "H_0 - ничего не изменилось <br>\n",
    "H_1 - изменения пошли на пользу"
   ]
  },
  {
   "cell_type": "code",
   "execution_count": 1,
   "metadata": {},
   "outputs": [],
   "source": [
    "import pandas as pd\n",
    "import seaborn as sns\n",
    "import matplotlib.pyplot as plt\n",
    "import numpy as np\n",
    "from scipy.stats import shapiro \n",
    "from scipy.stats import chi2_contingency\n",
    "from scipy. stats import mannwhitneyu \n",
    "import plotly.express as px"
   ]
  },
  {
   "cell_type": "code",
   "execution_count": 2,
   "metadata": {},
   "outputs": [],
   "source": [
    "users = pd.read_csv('ab_users_data.csv')\n",
    "orders = pd.read_csv('ab_orders.csv')\n",
    "products = pd.read_csv('ab_products.csv')"
   ]
  },
  {
   "cell_type": "markdown",
   "metadata": {},
   "source": [
    "По классике, проверим данные:"
   ]
  },
  {
   "cell_type": "code",
   "execution_count": 3,
   "metadata": {},
   "outputs": [
    {
     "data": {
      "text/html": [
       "<div>\n",
       "<style scoped>\n",
       "    .dataframe tbody tr th:only-of-type {\n",
       "        vertical-align: middle;\n",
       "    }\n",
       "\n",
       "    .dataframe tbody tr th {\n",
       "        vertical-align: top;\n",
       "    }\n",
       "\n",
       "    .dataframe thead th {\n",
       "        text-align: right;\n",
       "    }\n",
       "</style>\n",
       "<table border=\"1\" class=\"dataframe\">\n",
       "  <thead>\n",
       "    <tr style=\"text-align: right;\">\n",
       "      <th></th>\n",
       "      <th>product_id</th>\n",
       "      <th>name</th>\n",
       "      <th>price</th>\n",
       "    </tr>\n",
       "  </thead>\n",
       "  <tbody>\n",
       "    <tr>\n",
       "      <th>0</th>\n",
       "      <td>1</td>\n",
       "      <td>сахар</td>\n",
       "      <td>150.0</td>\n",
       "    </tr>\n",
       "    <tr>\n",
       "      <th>1</th>\n",
       "      <td>2</td>\n",
       "      <td>чай зеленый в пакетиках</td>\n",
       "      <td>50.0</td>\n",
       "    </tr>\n",
       "    <tr>\n",
       "      <th>2</th>\n",
       "      <td>3</td>\n",
       "      <td>вода негазированная</td>\n",
       "      <td>80.4</td>\n",
       "    </tr>\n",
       "    <tr>\n",
       "      <th>3</th>\n",
       "      <td>4</td>\n",
       "      <td>леденцы</td>\n",
       "      <td>45.5</td>\n",
       "    </tr>\n",
       "    <tr>\n",
       "      <th>4</th>\n",
       "      <td>5</td>\n",
       "      <td>кофе 3 в 1</td>\n",
       "      <td>15.0</td>\n",
       "    </tr>\n",
       "  </tbody>\n",
       "</table>\n",
       "</div>"
      ],
      "text/plain": [
       "   product_id                     name  price\n",
       "0           1                    сахар  150.0\n",
       "1           2  чай зеленый в пакетиках   50.0\n",
       "2           3      вода негазированная   80.4\n",
       "3           4                  леденцы   45.5\n",
       "4           5               кофе 3 в 1   15.0"
      ]
     },
     "execution_count": 3,
     "metadata": {},
     "output_type": "execute_result"
    }
   ],
   "source": [
    "products.head()"
   ]
  },
  {
   "cell_type": "code",
   "execution_count": 4,
   "metadata": {},
   "outputs": [
    {
     "data": {
      "text/plain": [
       "(87, 3)"
      ]
     },
     "execution_count": 4,
     "metadata": {},
     "output_type": "execute_result"
    }
   ],
   "source": [
    "products.shape"
   ]
  },
  {
   "cell_type": "code",
   "execution_count": 5,
   "metadata": {},
   "outputs": [
    {
     "data": {
      "text/plain": [
       "product_id    0\n",
       "name          0\n",
       "price         0\n",
       "dtype: int64"
      ]
     },
     "execution_count": 5,
     "metadata": {},
     "output_type": "execute_result"
    }
   ],
   "source": [
    "products.isnull().sum()"
   ]
  },
  {
   "cell_type": "code",
   "execution_count": 6,
   "metadata": {},
   "outputs": [
    {
     "data": {
      "text/plain": [
       "product_id    87\n",
       "name          87\n",
       "price         63\n",
       "dtype: int64"
      ]
     },
     "execution_count": 6,
     "metadata": {},
     "output_type": "execute_result"
    }
   ],
   "source": [
    "products.nunique()"
   ]
  },
  {
   "cell_type": "code",
   "execution_count": 7,
   "metadata": {},
   "outputs": [
    {
     "data": {
      "text/html": [
       "<div>\n",
       "<style scoped>\n",
       "    .dataframe tbody tr th:only-of-type {\n",
       "        vertical-align: middle;\n",
       "    }\n",
       "\n",
       "    .dataframe tbody tr th {\n",
       "        vertical-align: top;\n",
       "    }\n",
       "\n",
       "    .dataframe thead th {\n",
       "        text-align: right;\n",
       "    }\n",
       "</style>\n",
       "<table border=\"1\" class=\"dataframe\">\n",
       "  <thead>\n",
       "    <tr style=\"text-align: right;\">\n",
       "      <th></th>\n",
       "      <th>order_id</th>\n",
       "      <th>creation_time</th>\n",
       "      <th>product_ids</th>\n",
       "    </tr>\n",
       "  </thead>\n",
       "  <tbody>\n",
       "    <tr>\n",
       "      <th>0</th>\n",
       "      <td>1255</td>\n",
       "      <td>2022-08-26 00:00:19.000000</td>\n",
       "      <td>{75, 22, 53, 84}</td>\n",
       "    </tr>\n",
       "    <tr>\n",
       "      <th>1</th>\n",
       "      <td>1256</td>\n",
       "      <td>2022-08-26 00:02:21.000000</td>\n",
       "      <td>{56, 76, 39}</td>\n",
       "    </tr>\n",
       "    <tr>\n",
       "      <th>2</th>\n",
       "      <td>1257</td>\n",
       "      <td>2022-08-26 00:02:27.000000</td>\n",
       "      <td>{76, 34, 41, 38}</td>\n",
       "    </tr>\n",
       "    <tr>\n",
       "      <th>3</th>\n",
       "      <td>1258</td>\n",
       "      <td>2022-08-26 00:02:56.000000</td>\n",
       "      <td>{74, 6}</td>\n",
       "    </tr>\n",
       "    <tr>\n",
       "      <th>4</th>\n",
       "      <td>1259</td>\n",
       "      <td>2022-08-26 00:03:37.000000</td>\n",
       "      <td>{20, 45, 67, 26}</td>\n",
       "    </tr>\n",
       "  </tbody>\n",
       "</table>\n",
       "</div>"
      ],
      "text/plain": [
       "   order_id               creation_time       product_ids\n",
       "0      1255  2022-08-26 00:00:19.000000  {75, 22, 53, 84}\n",
       "1      1256  2022-08-26 00:02:21.000000      {56, 76, 39}\n",
       "2      1257  2022-08-26 00:02:27.000000  {76, 34, 41, 38}\n",
       "3      1258  2022-08-26 00:02:56.000000           {74, 6}\n",
       "4      1259  2022-08-26 00:03:37.000000  {20, 45, 67, 26}"
      ]
     },
     "execution_count": 7,
     "metadata": {},
     "output_type": "execute_result"
    }
   ],
   "source": [
    "orders.head()"
   ]
  },
  {
   "cell_type": "code",
   "execution_count": 8,
   "metadata": {},
   "outputs": [
    {
     "data": {
      "text/plain": [
       "(4123, 3)"
      ]
     },
     "execution_count": 8,
     "metadata": {},
     "output_type": "execute_result"
    }
   ],
   "source": [
    "orders.shape"
   ]
  },
  {
   "cell_type": "code",
   "execution_count": 9,
   "metadata": {},
   "outputs": [
    {
     "data": {
      "text/plain": [
       "order_id         0\n",
       "creation_time    0\n",
       "product_ids      0\n",
       "dtype: int64"
      ]
     },
     "execution_count": 9,
     "metadata": {},
     "output_type": "execute_result"
    }
   ],
   "source": [
    "orders.isnull().sum()"
   ]
  },
  {
   "cell_type": "code",
   "execution_count": 10,
   "metadata": {},
   "outputs": [
    {
     "data": {
      "text/plain": [
       "order_id         4123\n",
       "creation_time    4098\n",
       "product_ids      3877\n",
       "dtype: int64"
      ]
     },
     "execution_count": 10,
     "metadata": {},
     "output_type": "execute_result"
    }
   ],
   "source": [
    "orders.nunique()"
   ]
  },
  {
   "cell_type": "code",
   "execution_count": 11,
   "metadata": {},
   "outputs": [
    {
     "data": {
      "text/html": [
       "<div>\n",
       "<style scoped>\n",
       "    .dataframe tbody tr th:only-of-type {\n",
       "        vertical-align: middle;\n",
       "    }\n",
       "\n",
       "    .dataframe tbody tr th {\n",
       "        vertical-align: top;\n",
       "    }\n",
       "\n",
       "    .dataframe thead th {\n",
       "        text-align: right;\n",
       "    }\n",
       "</style>\n",
       "<table border=\"1\" class=\"dataframe\">\n",
       "  <thead>\n",
       "    <tr style=\"text-align: right;\">\n",
       "      <th></th>\n",
       "      <th>user_id</th>\n",
       "      <th>order_id</th>\n",
       "      <th>action</th>\n",
       "      <th>time</th>\n",
       "      <th>date</th>\n",
       "      <th>group</th>\n",
       "    </tr>\n",
       "  </thead>\n",
       "  <tbody>\n",
       "    <tr>\n",
       "      <th>0</th>\n",
       "      <td>964</td>\n",
       "      <td>1255</td>\n",
       "      <td>create_order</td>\n",
       "      <td>2022-08-26 00:00:19.000000</td>\n",
       "      <td>2022-08-26</td>\n",
       "      <td>0</td>\n",
       "    </tr>\n",
       "    <tr>\n",
       "      <th>1</th>\n",
       "      <td>965</td>\n",
       "      <td>1256</td>\n",
       "      <td>create_order</td>\n",
       "      <td>2022-08-26 00:02:21.000000</td>\n",
       "      <td>2022-08-26</td>\n",
       "      <td>1</td>\n",
       "    </tr>\n",
       "    <tr>\n",
       "      <th>2</th>\n",
       "      <td>964</td>\n",
       "      <td>1257</td>\n",
       "      <td>create_order</td>\n",
       "      <td>2022-08-26 00:02:27.000000</td>\n",
       "      <td>2022-08-26</td>\n",
       "      <td>0</td>\n",
       "    </tr>\n",
       "    <tr>\n",
       "      <th>3</th>\n",
       "      <td>966</td>\n",
       "      <td>1258</td>\n",
       "      <td>create_order</td>\n",
       "      <td>2022-08-26 00:02:56.000000</td>\n",
       "      <td>2022-08-26</td>\n",
       "      <td>0</td>\n",
       "    </tr>\n",
       "    <tr>\n",
       "      <th>4</th>\n",
       "      <td>967</td>\n",
       "      <td>1259</td>\n",
       "      <td>create_order</td>\n",
       "      <td>2022-08-26 00:03:37.000000</td>\n",
       "      <td>2022-08-26</td>\n",
       "      <td>1</td>\n",
       "    </tr>\n",
       "  </tbody>\n",
       "</table>\n",
       "</div>"
      ],
      "text/plain": [
       "   user_id  order_id        action                        time        date  \\\n",
       "0      964      1255  create_order  2022-08-26 00:00:19.000000  2022-08-26   \n",
       "1      965      1256  create_order  2022-08-26 00:02:21.000000  2022-08-26   \n",
       "2      964      1257  create_order  2022-08-26 00:02:27.000000  2022-08-26   \n",
       "3      966      1258  create_order  2022-08-26 00:02:56.000000  2022-08-26   \n",
       "4      967      1259  create_order  2022-08-26 00:03:37.000000  2022-08-26   \n",
       "\n",
       "   group  \n",
       "0      0  \n",
       "1      1  \n",
       "2      0  \n",
       "3      0  \n",
       "4      1  "
      ]
     },
     "execution_count": 11,
     "metadata": {},
     "output_type": "execute_result"
    }
   ],
   "source": [
    "users.head()"
   ]
  },
  {
   "cell_type": "code",
   "execution_count": 12,
   "metadata": {},
   "outputs": [
    {
     "data": {
      "text/plain": [
       "(4337, 6)"
      ]
     },
     "execution_count": 12,
     "metadata": {},
     "output_type": "execute_result"
    }
   ],
   "source": [
    "users.shape"
   ]
  },
  {
   "cell_type": "code",
   "execution_count": 13,
   "metadata": {},
   "outputs": [
    {
     "data": {
      "text/plain": [
       "user_id     0\n",
       "order_id    0\n",
       "action      0\n",
       "time        0\n",
       "date        0\n",
       "group       0\n",
       "dtype: int64"
      ]
     },
     "execution_count": 13,
     "metadata": {},
     "output_type": "execute_result"
    }
   ],
   "source": [
    "users.isnull().sum()"
   ]
  },
  {
   "cell_type": "code",
   "execution_count": 14,
   "metadata": {},
   "outputs": [
    {
     "data": {
      "text/plain": [
       "user_id     1017\n",
       "order_id    4123\n",
       "action         2\n",
       "time        4312\n",
       "date          14\n",
       "group          2\n",
       "dtype: int64"
      ]
     },
     "execution_count": 14,
     "metadata": {},
     "output_type": "execute_result"
    }
   ],
   "source": [
    "users.nunique()"
   ]
  },
  {
   "cell_type": "code",
   "execution_count": 15,
   "metadata": {},
   "outputs": [
    {
     "data": {
      "text/plain": [
       "array(['create_order', 'cancel_order'], dtype=object)"
      ]
     },
     "execution_count": 15,
     "metadata": {},
     "output_type": "execute_result"
    }
   ],
   "source": [
    "users.action.unique()"
   ]
  },
  {
   "cell_type": "markdown",
   "metadata": {},
   "source": [
    "Выглядит так, что с данными все в порядке"
   ]
  },
  {
   "cell_type": "code",
   "execution_count": 72,
   "metadata": {},
   "outputs": [],
   "source": [
    "users.date = pd.to_datetime(users.date)"
   ]
  },
  {
   "cell_type": "code",
   "execution_count": 75,
   "metadata": {},
   "outputs": [
    {
     "data": {
      "text/plain": [
       "Timedelta('13 days 00:00:00')"
      ]
     },
     "execution_count": 75,
     "metadata": {},
     "output_type": "execute_result"
    }
   ],
   "source": [
    "users.date.max() - users.date.min()"
   ]
  },
  {
   "cell_type": "markdown",
   "metadata": {},
   "source": [
    "Хмм, достаточно ли такого количества времени для экперимента?"
   ]
  },
  {
   "cell_type": "markdown",
   "metadata": {},
   "source": [
    "Посчитаем соотношение отмен к сделанным заказам"
   ]
  },
  {
   "cell_type": "code",
   "execution_count": 69,
   "metadata": {},
   "outputs": [
    {
     "data": {
      "text/html": [
       "<div>\n",
       "<style scoped>\n",
       "    .dataframe tbody tr th:only-of-type {\n",
       "        vertical-align: middle;\n",
       "    }\n",
       "\n",
       "    .dataframe tbody tr th {\n",
       "        vertical-align: top;\n",
       "    }\n",
       "\n",
       "    .dataframe thead th {\n",
       "        text-align: right;\n",
       "    }\n",
       "</style>\n",
       "<table border=\"1\" class=\"dataframe\">\n",
       "  <thead>\n",
       "    <tr style=\"text-align: right;\">\n",
       "      <th></th>\n",
       "      <th>group</th>\n",
       "      <th>action</th>\n",
       "      <th>user_id</th>\n",
       "    </tr>\n",
       "  </thead>\n",
       "  <tbody>\n",
       "    <tr>\n",
       "      <th>0</th>\n",
       "      <td>0</td>\n",
       "      <td>cancel_order</td>\n",
       "      <td>82</td>\n",
       "    </tr>\n",
       "    <tr>\n",
       "      <th>1</th>\n",
       "      <td>0</td>\n",
       "      <td>create_order</td>\n",
       "      <td>1609</td>\n",
       "    </tr>\n",
       "    <tr>\n",
       "      <th>2</th>\n",
       "      <td>1</td>\n",
       "      <td>cancel_order</td>\n",
       "      <td>132</td>\n",
       "    </tr>\n",
       "    <tr>\n",
       "      <th>3</th>\n",
       "      <td>1</td>\n",
       "      <td>create_order</td>\n",
       "      <td>2514</td>\n",
       "    </tr>\n",
       "  </tbody>\n",
       "</table>\n",
       "</div>"
      ],
      "text/plain": [
       "   group        action  user_id\n",
       "0      0  cancel_order       82\n",
       "1      0  create_order     1609\n",
       "2      1  cancel_order      132\n",
       "3      1  create_order     2514"
      ]
     },
     "execution_count": 69,
     "metadata": {},
     "output_type": "execute_result"
    }
   ],
   "source": [
    "cr = users.groupby(['group', 'action']).agg({'user_id':'count'}).reset_index()\n",
    "cr"
   ]
  },
  {
   "cell_type": "code",
   "execution_count": 70,
   "metadata": {},
   "outputs": [
    {
     "data": {
      "text/plain": [
       "5.1"
      ]
     },
     "execution_count": 70,
     "metadata": {},
     "output_type": "execute_result"
    }
   ],
   "source": [
    "round((cr.user_id[0] / cr.user_id[1])*100, 2)"
   ]
  },
  {
   "cell_type": "code",
   "execution_count": 71,
   "metadata": {},
   "outputs": [
    {
     "data": {
      "text/plain": [
       "5.25"
      ]
     },
     "execution_count": 71,
     "metadata": {},
     "output_type": "execute_result"
    }
   ],
   "source": [
    "round((cr.user_id[2] / cr.user_id[3])*100, 2)"
   ]
  },
  {
   "cell_type": "markdown",
   "metadata": {},
   "source": [
    "Процент отмен заказов не особо отличается в двух группах"
   ]
  },
  {
   "cell_type": "markdown",
   "metadata": {},
   "source": [
    "Избавимся от заказов пользователей, по которым были отмены:"
   ]
  },
  {
   "cell_type": "code",
   "execution_count": 17,
   "metadata": {},
   "outputs": [],
   "source": [
    "#отмены\n",
    "cancelled_orders = users.query('action == \"cancel_order\"').order_id"
   ]
  },
  {
   "cell_type": "code",
   "execution_count": 18,
   "metadata": {},
   "outputs": [],
   "source": [
    "#заказы без отмен\n",
    "created_orders = users.query('order_id not in @cancelled_orders')"
   ]
  },
  {
   "cell_type": "code",
   "execution_count": 19,
   "metadata": {},
   "outputs": [],
   "source": [
    "orders_new = created_orders.merge(orders, on = 'order_id')"
   ]
  },
  {
   "cell_type": "code",
   "execution_count": 20,
   "metadata": {},
   "outputs": [
    {
     "data": {
      "text/html": [
       "<div>\n",
       "<style scoped>\n",
       "    .dataframe tbody tr th:only-of-type {\n",
       "        vertical-align: middle;\n",
       "    }\n",
       "\n",
       "    .dataframe tbody tr th {\n",
       "        vertical-align: top;\n",
       "    }\n",
       "\n",
       "    .dataframe thead th {\n",
       "        text-align: right;\n",
       "    }\n",
       "</style>\n",
       "<table border=\"1\" class=\"dataframe\">\n",
       "  <thead>\n",
       "    <tr style=\"text-align: right;\">\n",
       "      <th></th>\n",
       "      <th>user_id</th>\n",
       "      <th>order_id</th>\n",
       "      <th>action</th>\n",
       "      <th>time</th>\n",
       "      <th>date</th>\n",
       "      <th>group</th>\n",
       "      <th>creation_time</th>\n",
       "      <th>product_ids</th>\n",
       "    </tr>\n",
       "  </thead>\n",
       "  <tbody>\n",
       "    <tr>\n",
       "      <th>0</th>\n",
       "      <td>964</td>\n",
       "      <td>1255</td>\n",
       "      <td>create_order</td>\n",
       "      <td>2022-08-26 00:00:19.000000</td>\n",
       "      <td>2022-08-26</td>\n",
       "      <td>0</td>\n",
       "      <td>2022-08-26 00:00:19.000000</td>\n",
       "      <td>{75, 22, 53, 84}</td>\n",
       "    </tr>\n",
       "    <tr>\n",
       "      <th>1</th>\n",
       "      <td>965</td>\n",
       "      <td>1256</td>\n",
       "      <td>create_order</td>\n",
       "      <td>2022-08-26 00:02:21.000000</td>\n",
       "      <td>2022-08-26</td>\n",
       "      <td>1</td>\n",
       "      <td>2022-08-26 00:02:21.000000</td>\n",
       "      <td>{56, 76, 39}</td>\n",
       "    </tr>\n",
       "    <tr>\n",
       "      <th>2</th>\n",
       "      <td>964</td>\n",
       "      <td>1257</td>\n",
       "      <td>create_order</td>\n",
       "      <td>2022-08-26 00:02:27.000000</td>\n",
       "      <td>2022-08-26</td>\n",
       "      <td>0</td>\n",
       "      <td>2022-08-26 00:02:27.000000</td>\n",
       "      <td>{76, 34, 41, 38}</td>\n",
       "    </tr>\n",
       "    <tr>\n",
       "      <th>3</th>\n",
       "      <td>967</td>\n",
       "      <td>1259</td>\n",
       "      <td>create_order</td>\n",
       "      <td>2022-08-26 00:03:37.000000</td>\n",
       "      <td>2022-08-26</td>\n",
       "      <td>1</td>\n",
       "      <td>2022-08-26 00:03:37.000000</td>\n",
       "      <td>{20, 45, 67, 26}</td>\n",
       "    </tr>\n",
       "    <tr>\n",
       "      <th>4</th>\n",
       "      <td>968</td>\n",
       "      <td>1261</td>\n",
       "      <td>create_order</td>\n",
       "      <td>2022-08-26 00:05:35.000000</td>\n",
       "      <td>2022-08-26</td>\n",
       "      <td>0</td>\n",
       "      <td>2022-08-26 00:05:35.000000</td>\n",
       "      <td>{30, 35, 69, 6}</td>\n",
       "    </tr>\n",
       "  </tbody>\n",
       "</table>\n",
       "</div>"
      ],
      "text/plain": [
       "   user_id  order_id        action                        time        date  \\\n",
       "0      964      1255  create_order  2022-08-26 00:00:19.000000  2022-08-26   \n",
       "1      965      1256  create_order  2022-08-26 00:02:21.000000  2022-08-26   \n",
       "2      964      1257  create_order  2022-08-26 00:02:27.000000  2022-08-26   \n",
       "3      967      1259  create_order  2022-08-26 00:03:37.000000  2022-08-26   \n",
       "4      968      1261  create_order  2022-08-26 00:05:35.000000  2022-08-26   \n",
       "\n",
       "   group               creation_time       product_ids  \n",
       "0      0  2022-08-26 00:00:19.000000  {75, 22, 53, 84}  \n",
       "1      1  2022-08-26 00:02:21.000000      {56, 76, 39}  \n",
       "2      0  2022-08-26 00:02:27.000000  {76, 34, 41, 38}  \n",
       "3      1  2022-08-26 00:03:37.000000  {20, 45, 67, 26}  \n",
       "4      0  2022-08-26 00:05:35.000000   {30, 35, 69, 6}  "
      ]
     },
     "execution_count": 20,
     "metadata": {},
     "output_type": "execute_result"
    }
   ],
   "source": [
    "orders_new.head()"
   ]
  },
  {
   "cell_type": "code",
   "execution_count": 21,
   "metadata": {},
   "outputs": [],
   "source": [
    "orders_new = orders_new.drop(columns=['time']) #время оказалось одинаковым, дропнем\n",
    "orders_new['product_ids'] = orders_new.product_ids.str.strip('{}')"
   ]
  },
  {
   "cell_type": "code",
   "execution_count": 22,
   "metadata": {},
   "outputs": [
    {
     "data": {
      "text/html": [
       "<div>\n",
       "<style scoped>\n",
       "    .dataframe tbody tr th:only-of-type {\n",
       "        vertical-align: middle;\n",
       "    }\n",
       "\n",
       "    .dataframe tbody tr th {\n",
       "        vertical-align: top;\n",
       "    }\n",
       "\n",
       "    .dataframe thead th {\n",
       "        text-align: right;\n",
       "    }\n",
       "</style>\n",
       "<table border=\"1\" class=\"dataframe\">\n",
       "  <thead>\n",
       "    <tr style=\"text-align: right;\">\n",
       "      <th></th>\n",
       "      <th>user_id</th>\n",
       "      <th>order_id</th>\n",
       "      <th>action</th>\n",
       "      <th>date</th>\n",
       "      <th>group</th>\n",
       "      <th>creation_time</th>\n",
       "      <th>product_ids</th>\n",
       "    </tr>\n",
       "  </thead>\n",
       "  <tbody>\n",
       "    <tr>\n",
       "      <th>0</th>\n",
       "      <td>964</td>\n",
       "      <td>1255</td>\n",
       "      <td>create_order</td>\n",
       "      <td>2022-08-26</td>\n",
       "      <td>0</td>\n",
       "      <td>2022-08-26 00:00:19.000000</td>\n",
       "      <td>75</td>\n",
       "    </tr>\n",
       "    <tr>\n",
       "      <th>0</th>\n",
       "      <td>964</td>\n",
       "      <td>1255</td>\n",
       "      <td>create_order</td>\n",
       "      <td>2022-08-26</td>\n",
       "      <td>0</td>\n",
       "      <td>2022-08-26 00:00:19.000000</td>\n",
       "      <td>22</td>\n",
       "    </tr>\n",
       "    <tr>\n",
       "      <th>0</th>\n",
       "      <td>964</td>\n",
       "      <td>1255</td>\n",
       "      <td>create_order</td>\n",
       "      <td>2022-08-26</td>\n",
       "      <td>0</td>\n",
       "      <td>2022-08-26 00:00:19.000000</td>\n",
       "      <td>53</td>\n",
       "    </tr>\n",
       "    <tr>\n",
       "      <th>0</th>\n",
       "      <td>964</td>\n",
       "      <td>1255</td>\n",
       "      <td>create_order</td>\n",
       "      <td>2022-08-26</td>\n",
       "      <td>0</td>\n",
       "      <td>2022-08-26 00:00:19.000000</td>\n",
       "      <td>84</td>\n",
       "    </tr>\n",
       "    <tr>\n",
       "      <th>1</th>\n",
       "      <td>965</td>\n",
       "      <td>1256</td>\n",
       "      <td>create_order</td>\n",
       "      <td>2022-08-26</td>\n",
       "      <td>1</td>\n",
       "      <td>2022-08-26 00:02:21.000000</td>\n",
       "      <td>56</td>\n",
       "    </tr>\n",
       "  </tbody>\n",
       "</table>\n",
       "</div>"
      ],
      "text/plain": [
       "   user_id  order_id        action        date  group  \\\n",
       "0      964      1255  create_order  2022-08-26      0   \n",
       "0      964      1255  create_order  2022-08-26      0   \n",
       "0      964      1255  create_order  2022-08-26      0   \n",
       "0      964      1255  create_order  2022-08-26      0   \n",
       "1      965      1256  create_order  2022-08-26      1   \n",
       "\n",
       "                creation_time product_ids  \n",
       "0  2022-08-26 00:00:19.000000          75  \n",
       "0  2022-08-26 00:00:19.000000          22  \n",
       "0  2022-08-26 00:00:19.000000          53  \n",
       "0  2022-08-26 00:00:19.000000          84  \n",
       "1  2022-08-26 00:02:21.000000          56  "
      ]
     },
     "execution_count": 22,
     "metadata": {},
     "output_type": "execute_result"
    }
   ],
   "source": [
    "orders_new['product_ids'] = orders_new['product_ids'].str.split(',')\n",
    "orders_new = orders_new.explode('product_ids')\n",
    "orders_new.head()"
   ]
  },
  {
   "cell_type": "code",
   "execution_count": 23,
   "metadata": {},
   "outputs": [],
   "source": [
    "orders_new = orders_new.rename(columns = {'product_ids':'product_id'})"
   ]
  },
  {
   "cell_type": "code",
   "execution_count": 24,
   "metadata": {},
   "outputs": [],
   "source": [
    "orders_new['product_id'] = orders_new.product_id.astype('int64')"
   ]
  },
  {
   "cell_type": "code",
   "execution_count": 25,
   "metadata": {},
   "outputs": [
    {
     "data": {
      "text/html": [
       "<div>\n",
       "<style scoped>\n",
       "    .dataframe tbody tr th:only-of-type {\n",
       "        vertical-align: middle;\n",
       "    }\n",
       "\n",
       "    .dataframe tbody tr th {\n",
       "        vertical-align: top;\n",
       "    }\n",
       "\n",
       "    .dataframe thead th {\n",
       "        text-align: right;\n",
       "    }\n",
       "</style>\n",
       "<table border=\"1\" class=\"dataframe\">\n",
       "  <thead>\n",
       "    <tr style=\"text-align: right;\">\n",
       "      <th></th>\n",
       "      <th>user_id</th>\n",
       "      <th>order_id</th>\n",
       "      <th>action</th>\n",
       "      <th>date</th>\n",
       "      <th>group</th>\n",
       "      <th>creation_time</th>\n",
       "      <th>product_id</th>\n",
       "    </tr>\n",
       "  </thead>\n",
       "  <tbody>\n",
       "    <tr>\n",
       "      <th>0</th>\n",
       "      <td>964</td>\n",
       "      <td>1255</td>\n",
       "      <td>create_order</td>\n",
       "      <td>2022-08-26</td>\n",
       "      <td>0</td>\n",
       "      <td>2022-08-26 00:00:19.000000</td>\n",
       "      <td>75</td>\n",
       "    </tr>\n",
       "    <tr>\n",
       "      <th>0</th>\n",
       "      <td>964</td>\n",
       "      <td>1255</td>\n",
       "      <td>create_order</td>\n",
       "      <td>2022-08-26</td>\n",
       "      <td>0</td>\n",
       "      <td>2022-08-26 00:00:19.000000</td>\n",
       "      <td>22</td>\n",
       "    </tr>\n",
       "    <tr>\n",
       "      <th>0</th>\n",
       "      <td>964</td>\n",
       "      <td>1255</td>\n",
       "      <td>create_order</td>\n",
       "      <td>2022-08-26</td>\n",
       "      <td>0</td>\n",
       "      <td>2022-08-26 00:00:19.000000</td>\n",
       "      <td>53</td>\n",
       "    </tr>\n",
       "    <tr>\n",
       "      <th>0</th>\n",
       "      <td>964</td>\n",
       "      <td>1255</td>\n",
       "      <td>create_order</td>\n",
       "      <td>2022-08-26</td>\n",
       "      <td>0</td>\n",
       "      <td>2022-08-26 00:00:19.000000</td>\n",
       "      <td>84</td>\n",
       "    </tr>\n",
       "    <tr>\n",
       "      <th>1</th>\n",
       "      <td>965</td>\n",
       "      <td>1256</td>\n",
       "      <td>create_order</td>\n",
       "      <td>2022-08-26</td>\n",
       "      <td>1</td>\n",
       "      <td>2022-08-26 00:02:21.000000</td>\n",
       "      <td>56</td>\n",
       "    </tr>\n",
       "    <tr>\n",
       "      <th>...</th>\n",
       "      <td>...</td>\n",
       "      <td>...</td>\n",
       "      <td>...</td>\n",
       "      <td>...</td>\n",
       "      <td>...</td>\n",
       "      <td>...</td>\n",
       "      <td>...</td>\n",
       "    </tr>\n",
       "    <tr>\n",
       "      <th>3907</th>\n",
       "      <td>1461</td>\n",
       "      <td>59487</td>\n",
       "      <td>create_order</td>\n",
       "      <td>2022-09-08</td>\n",
       "      <td>0</td>\n",
       "      <td>2022-09-08 23:29:06.000000</td>\n",
       "      <td>9</td>\n",
       "    </tr>\n",
       "    <tr>\n",
       "      <th>3907</th>\n",
       "      <td>1461</td>\n",
       "      <td>59487</td>\n",
       "      <td>create_order</td>\n",
       "      <td>2022-09-08</td>\n",
       "      <td>0</td>\n",
       "      <td>2022-09-08 23:29:06.000000</td>\n",
       "      <td>62</td>\n",
       "    </tr>\n",
       "    <tr>\n",
       "      <th>3907</th>\n",
       "      <td>1461</td>\n",
       "      <td>59487</td>\n",
       "      <td>create_order</td>\n",
       "      <td>2022-09-08</td>\n",
       "      <td>0</td>\n",
       "      <td>2022-09-08 23:29:06.000000</td>\n",
       "      <td>77</td>\n",
       "    </tr>\n",
       "    <tr>\n",
       "      <th>3908</th>\n",
       "      <td>1376</td>\n",
       "      <td>59533</td>\n",
       "      <td>create_order</td>\n",
       "      <td>2022-09-08</td>\n",
       "      <td>0</td>\n",
       "      <td>2022-09-08 23:41:24.000000</td>\n",
       "      <td>17</td>\n",
       "    </tr>\n",
       "    <tr>\n",
       "      <th>3908</th>\n",
       "      <td>1376</td>\n",
       "      <td>59533</td>\n",
       "      <td>create_order</td>\n",
       "      <td>2022-09-08</td>\n",
       "      <td>0</td>\n",
       "      <td>2022-09-08 23:41:24.000000</td>\n",
       "      <td>85</td>\n",
       "    </tr>\n",
       "  </tbody>\n",
       "</table>\n",
       "<p>13083 rows × 7 columns</p>\n",
       "</div>"
      ],
      "text/plain": [
       "      user_id  order_id        action        date  group  \\\n",
       "0         964      1255  create_order  2022-08-26      0   \n",
       "0         964      1255  create_order  2022-08-26      0   \n",
       "0         964      1255  create_order  2022-08-26      0   \n",
       "0         964      1255  create_order  2022-08-26      0   \n",
       "1         965      1256  create_order  2022-08-26      1   \n",
       "...       ...       ...           ...         ...    ...   \n",
       "3907     1461     59487  create_order  2022-09-08      0   \n",
       "3907     1461     59487  create_order  2022-09-08      0   \n",
       "3907     1461     59487  create_order  2022-09-08      0   \n",
       "3908     1376     59533  create_order  2022-09-08      0   \n",
       "3908     1376     59533  create_order  2022-09-08      0   \n",
       "\n",
       "                   creation_time  product_id  \n",
       "0     2022-08-26 00:00:19.000000          75  \n",
       "0     2022-08-26 00:00:19.000000          22  \n",
       "0     2022-08-26 00:00:19.000000          53  \n",
       "0     2022-08-26 00:00:19.000000          84  \n",
       "1     2022-08-26 00:02:21.000000          56  \n",
       "...                          ...         ...  \n",
       "3907  2022-09-08 23:29:06.000000           9  \n",
       "3907  2022-09-08 23:29:06.000000          62  \n",
       "3907  2022-09-08 23:29:06.000000          77  \n",
       "3908  2022-09-08 23:41:24.000000          17  \n",
       "3908  2022-09-08 23:41:24.000000          85  \n",
       "\n",
       "[13083 rows x 7 columns]"
      ]
     },
     "execution_count": 25,
     "metadata": {},
     "output_type": "execute_result"
    }
   ],
   "source": [
    "orders_new"
   ]
  },
  {
   "cell_type": "code",
   "execution_count": 26,
   "metadata": {},
   "outputs": [],
   "source": [
    "df = orders_new.merge(products, how = 'outer', on = 'product_id')"
   ]
  },
  {
   "cell_type": "code",
   "execution_count": 27,
   "metadata": {},
   "outputs": [
    {
     "data": {
      "text/html": [
       "<div>\n",
       "<style scoped>\n",
       "    .dataframe tbody tr th:only-of-type {\n",
       "        vertical-align: middle;\n",
       "    }\n",
       "\n",
       "    .dataframe tbody tr th {\n",
       "        vertical-align: top;\n",
       "    }\n",
       "\n",
       "    .dataframe thead th {\n",
       "        text-align: right;\n",
       "    }\n",
       "</style>\n",
       "<table border=\"1\" class=\"dataframe\">\n",
       "  <thead>\n",
       "    <tr style=\"text-align: right;\">\n",
       "      <th></th>\n",
       "      <th>user_id</th>\n",
       "      <th>order_id</th>\n",
       "      <th>action</th>\n",
       "      <th>date</th>\n",
       "      <th>group</th>\n",
       "      <th>creation_time</th>\n",
       "      <th>product_id</th>\n",
       "      <th>name</th>\n",
       "      <th>price</th>\n",
       "    </tr>\n",
       "  </thead>\n",
       "  <tbody>\n",
       "    <tr>\n",
       "      <th>0</th>\n",
       "      <td>964</td>\n",
       "      <td>1255</td>\n",
       "      <td>create_order</td>\n",
       "      <td>2022-08-26</td>\n",
       "      <td>0</td>\n",
       "      <td>2022-08-26 00:00:19.000000</td>\n",
       "      <td>75</td>\n",
       "      <td>сок ананасовый</td>\n",
       "      <td>120.0</td>\n",
       "    </tr>\n",
       "    <tr>\n",
       "      <th>1</th>\n",
       "      <td>987</td>\n",
       "      <td>1287</td>\n",
       "      <td>create_order</td>\n",
       "      <td>2022-08-26</td>\n",
       "      <td>0</td>\n",
       "      <td>2022-08-26 00:31:36.000000</td>\n",
       "      <td>75</td>\n",
       "      <td>сок ананасовый</td>\n",
       "      <td>120.0</td>\n",
       "    </tr>\n",
       "    <tr>\n",
       "      <th>2</th>\n",
       "      <td>1073</td>\n",
       "      <td>1403</td>\n",
       "      <td>create_order</td>\n",
       "      <td>2022-08-26</td>\n",
       "      <td>1</td>\n",
       "      <td>2022-08-26 03:01:40.000000</td>\n",
       "      <td>75</td>\n",
       "      <td>сок ананасовый</td>\n",
       "      <td>120.0</td>\n",
       "    </tr>\n",
       "    <tr>\n",
       "      <th>3</th>\n",
       "      <td>1089</td>\n",
       "      <td>1424</td>\n",
       "      <td>create_order</td>\n",
       "      <td>2022-08-26</td>\n",
       "      <td>1</td>\n",
       "      <td>2022-08-26 04:01:22.000000</td>\n",
       "      <td>75</td>\n",
       "      <td>сок ананасовый</td>\n",
       "      <td>120.0</td>\n",
       "    </tr>\n",
       "    <tr>\n",
       "      <th>4</th>\n",
       "      <td>1139</td>\n",
       "      <td>1495</td>\n",
       "      <td>create_order</td>\n",
       "      <td>2022-08-26</td>\n",
       "      <td>1</td>\n",
       "      <td>2022-08-26 06:04:05.000000</td>\n",
       "      <td>75</td>\n",
       "      <td>сок ананасовый</td>\n",
       "      <td>120.0</td>\n",
       "    </tr>\n",
       "  </tbody>\n",
       "</table>\n",
       "</div>"
      ],
      "text/plain": [
       "   user_id  order_id        action        date  group  \\\n",
       "0      964      1255  create_order  2022-08-26      0   \n",
       "1      987      1287  create_order  2022-08-26      0   \n",
       "2     1073      1403  create_order  2022-08-26      1   \n",
       "3     1089      1424  create_order  2022-08-26      1   \n",
       "4     1139      1495  create_order  2022-08-26      1   \n",
       "\n",
       "                creation_time  product_id            name  price  \n",
       "0  2022-08-26 00:00:19.000000          75  сок ананасовый  120.0  \n",
       "1  2022-08-26 00:31:36.000000          75  сок ананасовый  120.0  \n",
       "2  2022-08-26 03:01:40.000000          75  сок ананасовый  120.0  \n",
       "3  2022-08-26 04:01:22.000000          75  сок ананасовый  120.0  \n",
       "4  2022-08-26 06:04:05.000000          75  сок ананасовый  120.0  "
      ]
     },
     "execution_count": 27,
     "metadata": {},
     "output_type": "execute_result"
    }
   ],
   "source": [
    "df.head()"
   ]
  },
  {
   "cell_type": "markdown",
   "metadata": {},
   "source": [
    "Фуф, подготовка завершена, посмотрим прибыль по группам"
   ]
  },
  {
   "cell_type": "code",
   "execution_count": 28,
   "metadata": {},
   "outputs": [
    {
     "data": {
      "text/html": [
       "<div>\n",
       "<style scoped>\n",
       "    .dataframe tbody tr th:only-of-type {\n",
       "        vertical-align: middle;\n",
       "    }\n",
       "\n",
       "    .dataframe tbody tr th {\n",
       "        vertical-align: top;\n",
       "    }\n",
       "\n",
       "    .dataframe thead th {\n",
       "        text-align: right;\n",
       "    }\n",
       "</style>\n",
       "<table border=\"1\" class=\"dataframe\">\n",
       "  <thead>\n",
       "    <tr style=\"text-align: right;\">\n",
       "      <th></th>\n",
       "      <th>group</th>\n",
       "      <th>price</th>\n",
       "    </tr>\n",
       "  </thead>\n",
       "  <tbody>\n",
       "    <tr>\n",
       "      <th>0</th>\n",
       "      <td>0</td>\n",
       "      <td>583455.9</td>\n",
       "    </tr>\n",
       "    <tr>\n",
       "      <th>1</th>\n",
       "      <td>1</td>\n",
       "      <td>878628.4</td>\n",
       "    </tr>\n",
       "  </tbody>\n",
       "</table>\n",
       "</div>"
      ],
      "text/plain": [
       "   group     price\n",
       "0      0  583455.9\n",
       "1      1  878628.4"
      ]
     },
     "execution_count": 28,
     "metadata": {},
     "output_type": "execute_result"
    }
   ],
   "source": [
    "df.groupby('group', as_index = False).agg({'price':'sum'})"
   ]
  },
  {
   "cell_type": "markdown",
   "metadata": {},
   "source": [
    "Как минимум выросла прибыль с новой системой рекомендации,не будем делать поспешных выводов, повлиять на прибыль могло что-то другое <br>\n",
    "\n",
    "\n",
    "Посмотрим выросло ли среднее количество заказов одним пользователем"
   ]
  },
  {
   "cell_type": "code",
   "execution_count": 60,
   "metadata": {},
   "outputs": [],
   "source": [
    "orders_number = df.groupby(['group', 'user_id'], as_index = False)\\\n",
    "        .agg({'order_id':'nunique'})\\\n",
    "        .rename(columns = {'order_id':'orders_number'})"
   ]
  },
  {
   "cell_type": "code",
   "execution_count": 61,
   "metadata": {},
   "outputs": [
    {
     "data": {
      "text/html": [
       "<div>\n",
       "<style scoped>\n",
       "    .dataframe tbody tr th:only-of-type {\n",
       "        vertical-align: middle;\n",
       "    }\n",
       "\n",
       "    .dataframe tbody tr th {\n",
       "        vertical-align: top;\n",
       "    }\n",
       "\n",
       "    .dataframe thead th {\n",
       "        text-align: right;\n",
       "    }\n",
       "</style>\n",
       "<table border=\"1\" class=\"dataframe\">\n",
       "  <thead>\n",
       "    <tr style=\"text-align: right;\">\n",
       "      <th></th>\n",
       "      <th>group</th>\n",
       "      <th>orders_number</th>\n",
       "    </tr>\n",
       "  </thead>\n",
       "  <tbody>\n",
       "    <tr>\n",
       "      <th>0</th>\n",
       "      <td>0</td>\n",
       "      <td>2.982422</td>\n",
       "    </tr>\n",
       "    <tr>\n",
       "      <th>1</th>\n",
       "      <td>1</td>\n",
       "      <td>4.754491</td>\n",
       "    </tr>\n",
       "  </tbody>\n",
       "</table>\n",
       "</div>"
      ],
      "text/plain": [
       "   group  orders_number\n",
       "0      0       2.982422\n",
       "1      1       4.754491"
      ]
     },
     "execution_count": 61,
     "metadata": {},
     "output_type": "execute_result"
    }
   ],
   "source": [
    "orders_number.groupby(['group'], as_index = False).orders_number.mean()"
   ]
  },
  {
   "cell_type": "markdown",
   "metadata": {},
   "source": [
    "Выросло среднее количество заказов на одно пользователя"
   ]
  },
  {
   "cell_type": "code",
   "execution_count": 62,
   "metadata": {},
   "outputs": [
    {
     "data": {
      "text/plain": [
       "(239.7458665762426,\n",
       " 1.873323423213025e-44,\n",
       " 12,\n",
       " array([[ 65.20039487,  94.00987167, 103.6130306 ,  76.31984205,\n",
       "          65.70582428,  41.44521224,  29.82033564,  17.1846002 ,\n",
       "          10.10858835,   4.54886476,   2.52714709,   1.01085884,\n",
       "           0.50542942],\n",
       "        [ 63.79960513,  91.99012833, 101.3869694 ,  74.68015795,\n",
       "          64.29417572,  40.55478776,  29.17966436,  16.8153998 ,\n",
       "           9.89141165,   4.45113524,   2.47285291,   0.98914116,\n",
       "           0.49457058]]))"
      ]
     },
     "execution_count": 62,
     "metadata": {},
     "output_type": "execute_result"
    }
   ],
   "source": [
    "chi2_contingency(pd.crosstab(orders_number.group, orders_number.orders_number))"
   ]
  },
  {
   "cell_type": "markdown",
   "metadata": {},
   "source": [
    "Казалось бы, p-value значительно меньше 0.05 и можно отвергать нулевую гипотезу, но не торопимся с выводами"
   ]
  },
  {
   "cell_type": "markdown",
   "metadata": {},
   "source": [
    "Стоит посчитать и средний чек на один заказ у пользователя"
   ]
  },
  {
   "cell_type": "code",
   "execution_count": 47,
   "metadata": {},
   "outputs": [
    {
     "data": {
      "text/html": [
       "<div>\n",
       "<style scoped>\n",
       "    .dataframe tbody tr th:only-of-type {\n",
       "        vertical-align: middle;\n",
       "    }\n",
       "\n",
       "    .dataframe tbody tr th {\n",
       "        vertical-align: top;\n",
       "    }\n",
       "\n",
       "    .dataframe thead th {\n",
       "        text-align: right;\n",
       "    }\n",
       "</style>\n",
       "<table border=\"1\" class=\"dataframe\">\n",
       "  <thead>\n",
       "    <tr style=\"text-align: right;\">\n",
       "      <th></th>\n",
       "      <th>group</th>\n",
       "      <th>price</th>\n",
       "    </tr>\n",
       "  </thead>\n",
       "  <tbody>\n",
       "    <tr>\n",
       "      <th>0</th>\n",
       "      <td>0</td>\n",
       "      <td>382.092927</td>\n",
       "    </tr>\n",
       "    <tr>\n",
       "      <th>1</th>\n",
       "      <td>1</td>\n",
       "      <td>368.861629</td>\n",
       "    </tr>\n",
       "  </tbody>\n",
       "</table>\n",
       "</div>"
      ],
      "text/plain": [
       "   group       price\n",
       "0      0  382.092927\n",
       "1      1  368.861629"
      ]
     },
     "execution_count": 47,
     "metadata": {},
     "output_type": "execute_result"
    }
   ],
   "source": [
    "mean_check = df.groupby(['group', 'user_id', 'order_id'], as_index = False)\\\n",
    "        .agg({'price':'sum'})\n",
    "mean_check.groupby(['group'], as_index = False).price.mean()"
   ]
  },
  {
   "cell_type": "markdown",
   "metadata": {},
   "source": [
    "Средний чек особо не изменился"
   ]
  },
  {
   "cell_type": "code",
   "execution_count": 106,
   "metadata": {},
   "outputs": [
    {
     "data": {
      "text/plain": [
       "<seaborn.axisgrid.FacetGrid at 0x7fc99ea67080>"
      ]
     },
     "execution_count": 106,
     "metadata": {},
     "output_type": "execute_result"
    },
    {
     "data": {
      "image/png": "[encoded data removed]",
      "text/plain": [
       "<Figure size 402.375x360 with 1 Axes>"
      ]
     },
     "metadata": {
      "needs_background": "light"
     },
     "output_type": "display_data"
    }
   ],
   "source": [
    "figsize=(20, 12)\n",
    "sns.displot(mean_check, x=\"price\", hue=\"group\", stat=\"density\", palette=\"pastel\")"
   ]
  },
  {
   "cell_type": "code",
   "execution_count": 51,
   "metadata": {},
   "outputs": [
    {
     "data": {
      "text/plain": [
       "(2401.8904663201397,\n",
       " 0.4111035353482809,\n",
       " 2387,\n",
       " array([[0.39063699, 0.39063699, 0.78127398, ..., 0.39063699, 0.39063699,\n",
       "         0.39063699],\n",
       "        [0.60936301, 0.60936301, 1.21872602, ..., 0.60936301, 0.60936301,\n",
       "         0.60936301]]))"
      ]
     },
     "execution_count": 51,
     "metadata": {},
     "output_type": "execute_result"
    }
   ],
   "source": [
    "chi2_contingency(pd.crosstab(mean_check.group, mean_check.price))"
   ]
  },
  {
   "cell_type": "markdown",
   "metadata": {},
   "source": [
    "По среднему чеку не можем отвергнуть нулевую гипотезу, смотрим дальше"
   ]
  },
  {
   "cell_type": "code",
   "execution_count": 57,
   "metadata": {},
   "outputs": [
    {
     "data": {
      "text/html": [
       "<div>\n",
       "<style scoped>\n",
       "    .dataframe tbody tr th:only-of-type {\n",
       "        vertical-align: middle;\n",
       "    }\n",
       "\n",
       "    .dataframe tbody tr th {\n",
       "        vertical-align: top;\n",
       "    }\n",
       "\n",
       "    .dataframe thead th {\n",
       "        text-align: right;\n",
       "    }\n",
       "</style>\n",
       "<table border=\"1\" class=\"dataframe\">\n",
       "  <thead>\n",
       "    <tr style=\"text-align: right;\">\n",
       "      <th></th>\n",
       "      <th>group</th>\n",
       "      <th>product_id</th>\n",
       "    </tr>\n",
       "  </thead>\n",
       "  <tbody>\n",
       "    <tr>\n",
       "      <th>0</th>\n",
       "      <td>0</td>\n",
       "      <td>3.341847</td>\n",
       "    </tr>\n",
       "    <tr>\n",
       "      <th>1</th>\n",
       "      <td>1</td>\n",
       "      <td>3.350126</td>\n",
       "    </tr>\n",
       "  </tbody>\n",
       "</table>\n",
       "</div>"
      ],
      "text/plain": [
       "   group  product_id\n",
       "0      0    3.341847\n",
       "1      1    3.350126"
      ]
     },
     "execution_count": 57,
     "metadata": {},
     "output_type": "execute_result"
    }
   ],
   "source": [
    "mean_positions_number = df.groupby(['group', 'order_id'], as_index = False)\\\n",
    "        .agg({'product_id':'count'})\n",
    "mean_positions_number.groupby(['group'], as_index = False).product_id.mean()"
   ]
  },
  {
   "cell_type": "code",
   "execution_count": 58,
   "metadata": {},
   "outputs": [
    {
     "data": {
      "text/plain": [
       "(7.468755773170182,\n",
       " 0.38175522788727695,\n",
       " 7,\n",
       " array([[ 90.23714505, 323.44742901, 460.56101305, 369.54259401,\n",
       "         200.39677667,  69.5333845 ,  11.71910975,   1.56254797],\n",
       "        [140.76285495, 504.55257099, 718.43898695, 576.45740599,\n",
       "         312.60322333, 108.4666155 ,  18.28089025,   2.43745203]]))"
      ]
     },
     "execution_count": 58,
     "metadata": {},
     "output_type": "execute_result"
    }
   ],
   "source": [
    "chi2_contingency(pd.crosstab(mean_positions_number.group, mean_positions_number.product_id))"
   ]
  },
  {
   "cell_type": "markdown",
   "metadata": {},
   "source": [
    "Среднее количество товаров в заказе тоже не сильно отличается, p-value тоже не позволяет откинуть нулевую гипотезу"
   ]
  },
  {
   "cell_type": "code",
   "execution_count": 82,
   "metadata": {},
   "outputs": [],
   "source": [
    "dates = df.groupby(['group', 'date', 'order_id'], as_index = False)\\\n",
    "        .agg({'action':'count'})"
   ]
  },
  {
   "cell_type": "code",
   "execution_count": 90,
   "metadata": {},
   "outputs": [
    {
     "data": {
      "text/plain": [
       "<matplotlib.axes._subplots.AxesSubplot at 0x7fc9a4061da0>"
      ]
     },
     "execution_count": 90,
     "metadata": {},
     "output_type": "execute_result"
    },
    {
     "data": {
      "image/png": "[encoded data removed]",
      "text/plain": [
       "<Figure size 1600x960 with 1 Axes>"
      ]
     },
     "metadata": {
      "needs_background": "light"
     },
     "output_type": "display_data"
    }
   ],
   "source": [
    "f, ax = plt.subplots(figsize=(20, 12), dpi= 80)\n",
    "sns.barplot(data=dates, x=\"date\", y=\"action\", hue=\"group\", palette=\"pastel\")"
   ]
  },
  {
   "cell_type": "markdown",
   "metadata": {},
   "source": [
    "### Итого:\n",
    "\n",
    "- Выросло среднее количество заказов на пользователя => выросла прибыль\n",
    "- Не изменился средний чек и среднее количество товаров купленных \n",
    "\n",
    "Я бы представила результаты заказчику в такой ситуации, мы бы обсудили какие метрики действительно важны для нашего бизнеса. Решение было бы принято после обсуждения:\n",
    "- продолжать эксперимент?\n",
    "- посчитать ещё другие метрики?\n",
    "- выкатить в прод?\n",
    "- оставить все как есть?\n",
    "\n",
    "По этим результатам я не могу предложить однозначное решение."
   ]
  }
 ],
 "metadata": {
  "kernelspec": {
   "display_name": "Python 3",
   "language": "python",
   "name": "python3"
  },
  "language_info": {
   "codemirror_mode": {
    "name": "ipython",
    "version": 3
   },
   "file_extension": ".py",
   "mimetype": "text/x-python",
   "name": "python",
   "nbconvert_exporter": "python",
   "pygments_lexer": "ipython3",
   "version": "3.7.3"
  }
 },
 "nbformat": 4,
 "nbformat_minor": 4
}
